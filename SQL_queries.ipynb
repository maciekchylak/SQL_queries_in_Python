{
 "cells": [
  {
   "cell_type": "markdown",
   "metadata": {},
   "source": [
    "# Praca projektowa nr 4\n",
    "# Maciej Chylak\n",
    "# 305699 IiAD"
   ]
  },
  {
   "cell_type": "markdown",
   "metadata": {},
   "source": [
    "<br/>\n",
    "<br/>"
   ]
  },
  {
   "cell_type": "markdown",
   "metadata": {},
   "source": [
    "## Przygotowanie ramek danych do użycia"
   ]
  },
  {
   "cell_type": "code",
   "execution_count": 115,
   "metadata": {},
   "outputs": [],
   "source": [
    "import pandas as pd\n",
    "import numpy as np\n",
    "Tags = pd.read_csv(\"travel_stackexchange_com/Tags.csv\")\n",
    "Badges = pd.read_csv(\"travel_stackexchange_com/Badges.csv\")\n",
    "Comments = pd.read_csv(\"travel_stackexchange_com/Comments.csv\")\n",
    "Posts = pd.read_csv(\"travel_stackexchange_com/Posts.csv\")\n",
    "PostLinks = pd.read_csv(\"travel_stackexchange_com/PostLinks.csv\")\n",
    "Users = pd.read_csv(\"travel_stackexchange_com/Users.csv\")\n",
    "Votes = pd.read_csv(\"travel_stackexchange_com/Votes.csv\")"
   ]
  },
  {
   "cell_type": "code",
   "execution_count": 116,
   "metadata": {},
   "outputs": [],
   "source": [
    "import os, os.path\n",
    "import sqlite3\n",
    "import tempfile\n",
    "# sciezka dostępu do bazy danych:\n",
    "baza = os.path.join(tempfile.mkdtemp(), 'przyklad.db')\n",
    "if os.path.isfile(baza): # jesli baza już istneje...\n",
    "    os.remove(baza) # ...usuniemy ja\n",
    "conn = sqlite3.connect(baza) # połączenie do bazy danych\n",
    "Badges.to_sql(\"Badges\", conn) # importujemy ramkę danych do bazy danych\n",
    "Comments.to_sql(\"Comments\", conn)\n",
    "PostLinks.to_sql(\"PostLinks\", conn)\n",
    "Posts.to_sql(\"Posts\", conn)\n",
    "Tags.to_sql(\"Tags\", conn)\n",
    "Users.to_sql(\"Users\", conn)\n",
    "Votes.to_sql(\"Votes\", conn)"
   ]
  },
  {
   "cell_type": "markdown",
   "metadata": {},
   "source": [
    "***\n",
    "\n",
    "## Zadanie nr 1"
   ]
  },
  {
   "cell_type": "markdown",
   "metadata": {},
   "source": [
    "#### SQL "
   ]
  },
  {
   "cell_type": "code",
   "execution_count": 121,
   "metadata": {},
   "outputs": [],
   "source": [
    "df_sql_1 = pd.read_sql_query(\"\"\" SELECT Title, Score, ViewCount, \n",
    "FavoriteCount FROM Posts WHERE PostTypeId=1 AND FavoriteCount >= 25 AND ViewCount>=10000 \"\"\", conn)"
   ]
  },
  {
   "cell_type": "markdown",
   "metadata": {},
   "source": [
    "#### PANDAS"
   ]
  },
  {
   "cell_type": "code",
   "execution_count": 136,
   "metadata": {},
   "outputs": [],
   "source": [
    "df_pd_1 = Posts[(Posts.PostTypeId == 1) & (Posts.FavoriteCount >= 25) & (Posts.ViewCount >= 10000)][['Title', 'Score', 'ViewCount', 'FavoriteCount']]\n",
    "df_pd_1 = df_pd_1.reset_index(drop = True)"
   ]
  },
  {
   "cell_type": "markdown",
   "metadata": {},
   "source": [
    "***"
   ]
  },
  {
   "cell_type": "markdown",
   "metadata": {},
   "source": [
    "## Zadanie nr 2"
   ]
  },
  {
   "cell_type": "markdown",
   "metadata": {},
   "source": [
    "#### SQL "
   ]
  },
  {
   "cell_type": "code",
   "execution_count": 123,
   "metadata": {},
   "outputs": [],
   "source": [
    "df_sql_2 = pd.read_sql_query(\"\"\" SELECT Posts.Title, RelatedTab.NumLinks FROM\n",
    "(SELECT RelatedPostId AS PostId, COUNT(*) AS NumLinks\n",
    "FROM PostLinks GROUP BY RelatedPostId) AS RelatedTab\n",
    "JOIN Posts ON RelatedTab.PostId=Posts.Id\n",
    "WHERE Posts.PostTypeId=1\n",
    "ORDER BY NumLinks DESC\n",
    "LIMIT 10 \"\"\", conn)"
   ]
  },
  {
   "cell_type": "markdown",
   "metadata": {},
   "source": [
    "#### PANDAS"
   ]
  },
  {
   "cell_type": "code",
   "execution_count": 127,
   "metadata": {},
   "outputs": [],
   "source": [
    "RelatedTab = PostLinks.groupby('RelatedPostId').size().to_frame(\"NumLinks\").reset_index()\n",
    "RelatedTab = RelatedTab.rename(columns={'RelatedPostId':'PostId'})\n",
    "df_pd_2 = RelatedTab.merge(\n",
    "    Posts[(Posts.PostTypeId == 1)], left_on = \"PostId\", \n",
    "    right_on = \"Id\").sort_values(['NumLinks'], ascending=[False]).head(10)\n",
    "df_pd_2 = df_pd_2[[\"Title\", \"NumLinks\"]].reset_index(drop = True)"
   ]
  },
  {
   "cell_type": "markdown",
   "metadata": {},
   "source": [
    "***"
   ]
  },
  {
   "cell_type": "markdown",
   "metadata": {},
   "source": [
    "## Zadanie nr 3"
   ]
  },
  {
   "cell_type": "markdown",
   "metadata": {},
   "source": [
    "#### SQL "
   ]
  },
  {
   "cell_type": "code",
   "execution_count": 128,
   "metadata": {},
   "outputs": [],
   "source": [
    "df_sql_3 = pd.read_sql_query(\"\"\" SELECT DISTINCT\n",
    "Users.Id,\n",
    "Users.DisplayName,\n",
    "Users.Reputation,\n",
    "Users.Age,\n",
    "Users.Location\n",
    "FROM (\n",
    "SELECT\n",
    "Name, UserID\n",
    "FROM Badges\n",
    "WHERE Name IN (\n",
    "SELECT\n",
    "Name\n",
    "FROM Badges\n",
    "WHERE Class=1\n",
    "GROUP BY Name\n",
    "HAVING COUNT(*) BETWEEN 2 AND 10\n",
    ")\n",
    "AND Class=1\n",
    ") AS ValuableBadges\n",
    "JOIN Users ON ValuableBadges.UserId=Users.Id \"\"\", conn)"
   ]
  },
  {
   "cell_type": "markdown",
   "metadata": {},
   "source": [
    "#### PANDAS"
   ]
  },
  {
   "cell_type": "code",
   "execution_count": 134,
   "metadata": {},
   "outputs": [],
   "source": [
    "x = Badges[(Badges.Class == 1)].groupby(\"Name\").size().to_frame(\"n\").reset_index()\n",
    "x = x[(x.n >=2) & (x.n <= 10)][\"Name\"]\n",
    "ValuableBadges = Badges[(Badges.Name.isin(x)) & (Badges.Class == 1)][['Name', 'UserId']]\n",
    "df_pd_3 = ValuableBadges.merge(Users, left_on = \"UserId\", right_on = \"Id\")[[\"Id\", \"DisplayName\", \"Reputation\", \"Age\", \"Location\"]]\n",
    "df_pd_3 = df_pd_3.drop_duplicates().reset_index(drop = True)"
   ]
  },
  {
   "cell_type": "markdown",
   "metadata": {},
   "source": [
    "***\n",
    "\n",
    "## Sprawdzenie poprawności "
   ]
  },
  {
   "cell_type": "code",
   "execution_count": 137,
   "metadata": {},
   "outputs": [
    {
     "data": {
      "text/plain": [
       "True"
      ]
     },
     "execution_count": 137,
     "metadata": {},
     "output_type": "execute_result"
    }
   ],
   "source": [
    "df_pd_1.equals(df_sql_1)"
   ]
  },
  {
   "cell_type": "code",
   "execution_count": 138,
   "metadata": {},
   "outputs": [
    {
     "data": {
      "text/plain": [
       "True"
      ]
     },
     "execution_count": 138,
     "metadata": {},
     "output_type": "execute_result"
    }
   ],
   "source": [
    "df_pd_2.equals(df_sql_2)"
   ]
  },
  {
   "cell_type": "code",
   "execution_count": 139,
   "metadata": {},
   "outputs": [
    {
     "data": {
      "text/plain": [
       "True"
      ]
     },
     "execution_count": 139,
     "metadata": {},
     "output_type": "execute_result"
    }
   ],
   "source": [
    "df_pd_3.equals(df_sql_3)"
   ]
  }
 ],
 "metadata": {
  "kernelspec": {
   "display_name": "Python 3",
   "language": "python",
   "name": "python3"
  },
  "language_info": {
   "codemirror_mode": {
    "name": "ipython",
    "version": 3
   },
   "file_extension": ".py",
   "mimetype": "text/x-python",
   "name": "python",
   "nbconvert_exporter": "python",
   "pygments_lexer": "ipython3",
   "version": "3.7.4"
  }
 },
 "nbformat": 4,
 "nbformat_minor": 4
}
